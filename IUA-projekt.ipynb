{
 "cells": [
  {
   "cell_type": "code",
   "execution_count": 80,
   "metadata": {},
   "outputs": [
    {
     "data": {
      "text/plain": [
       "-1500.0"
      ]
     },
     "execution_count": 80,
     "metadata": {},
     "output_type": "execute_result"
    }
   ],
   "source": [
    "import pandas as pd\n",
    "import numpy as np\n",
    "import pylab as plt\n",
    "import seaborn as sns\n",
    "\n",
    "pd.set_option('display.max_rows', None)\n",
    "\n",
    "personal_train = pd.read_csv(\"C:\\\\Users\\\\jakub\\\\Desktop\\\\IAU\\\\4\\\\personal_train.csv\")\n",
    "other_train = pd.read_csv(\"C:\\\\Users\\\\jakub\\\\Desktop\\\\IAU\\\\4\\\\other_train.csv\")\n",
    "other_train[\"education-num\"].min()"
   ]
  },
  {
   "cell_type": "code",
   "execution_count": 83,
   "metadata": {},
   "outputs": [
    {
     "data": {
      "text/plain": [
       "(array([37.,  3.,  0.,  0.,  1.,  0.,  0.,  1.,  0.,  1.]),\n",
       " array([  1. ,  62.5, 124. , 185.5, 247. , 308.5, 370. , 431.5, 493. ,\n",
       "        554.5, 616. ]),\n",
       " <a list of 10 Patch objects>)"
      ]
     },
     "execution_count": 83,
     "metadata": {},
     "output_type": "execute_result"
    },
    {
     "data": {
      "image/png": "[encoded data removed]",
      "text/plain": [
       "<Figure size 432x288 with 1 Axes>"
      ]
     },
     "metadata": {},
     "output_type": "display_data"
    }
   ],
   "source": [
    "\n",
    "plt.axis([-20.0,20.0,0,40])\n",
    "plt.hist(other_train[\"education-num\"].value_counts()) \n"
   ]
  },
  {
   "cell_type": "code",
   "execution_count": 67,
   "metadata": {},
   "outputs": [
    {
     "data": {
      "text/plain": [
       "(array([35.,  0.,  0.,  0.,  0.,  0.,  0.,  0.,  0.,  1.]),\n",
       " array([1.00e+00, 2.20e+02, 4.39e+02, 6.58e+02, 8.77e+02, 1.10e+03,\n",
       "        1.32e+03, 1.53e+03, 1.75e+03, 1.97e+03, 2.19e+03]),\n",
       " <a list of 10 Patch objects>)"
      ]
     },
     "execution_count": 67,
     "metadata": {},
     "output_type": "execute_result"
    },
    {
     "data": {
      "image/png": "[encoded data removed]",
      "text/plain": [
       "<Figure size 432x288 with 1 Axes>"
      ]
     },
     "metadata": {},
     "output_type": "display_data"
    }
   ],
   "source": [
    "np.set_printoptions(precision=2)\n",
    "pole = np.round(other_train[\"capital-loss\"].value_counts(),2)\n",
    "plt.hist(pole)"
   ]
  }
 ],
 "metadata": {
  "kernelspec": {
   "display_name": "Python 3",
   "language": "python",
   "name": "python3"
  },
  "language_info": {
   "codemirror_mode": {
    "name": "ipython",
    "version": 3
   },
   "file_extension": ".py",
   "mimetype": "text/x-python",
   "name": "python",
   "nbconvert_exporter": "python",
   "pygments_lexer": "ipython3",
   "version": "3.6.5"
  }
 },
 "nbformat": 4,
 "nbformat_minor": 2
}
